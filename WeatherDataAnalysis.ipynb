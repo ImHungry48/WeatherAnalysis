{
 "cells": [
  {
   "cell_type": "markdown",
   "metadata": {},
   "source": [
    "import pandas as pd\n",
    "import matplotlib.pyplot as plt\n",
    "from sklearn.linear_model import LinearRegression\n",
    "from sklearn.model_selection import train_test_split"
   ]
  },
  {
   "cell_type": "code",
   "execution_count": null,
   "metadata": {},
   "outputs": [],
   "source": [
    "df = pd.read_csv('path_to_weather_data.csv')\n",
    "\n",
    "print(df.head())"
   ]
  },
  {
   "cell_type": "code",
   "execution_count": null,
   "metadata": {},
   "outputs": [],
   "source": [
    "# Convert the 'date' column to datetime format\n",
    "df['date'] = pd.to_datetime(df['date'])\n",
    "\n",
    "# Fill or remove missing values\n",
    "df.fillna(method='ffill', inplace=True)\n",
    "\n",
    "# Convert Fahrenheit to Celsius\n",
    "df['temperature_C'] = (df['temperature_F'] - 32) * (5.0/9.0)"
   ]
  },
  {
   "cell_type": "code",
   "execution_count": null,
   "metadata": {},
   "outputs": [],
   "source": [
    "# Plot temperature over time\n",
    "plt.figure(figsize=(10, 5))\n",
    "plt.plot(df['date'], df['temperature_C'], label='Temperature')\n",
    "plt.title('Daily Temperature Over Time')\n",
    "plt.xlabel('Date')\n",
    "plt.ylabel('Temperature (°C)')\n",
    "plt.legend()\n",
    "plt.show()\n",
    "\n",
    "# Plotting other factors like precipitation, humidity, etc.\n"
   ]
  },
  {
   "cell_type": "code",
   "execution_count": null,
   "metadata": {},
   "outputs": [],
   "source": [
    "# Seasonal analysis\n",
    "df['month'] = df['date'].dt.month\n",
    "monthly_avg = df.groupby('month').mean()\n",
    "\n",
    "plt.bar(monthly_avg.index, monthly_avg['temperature_C'])\n",
    "plt.title('Average Monthly Temperature')\n",
    "plt.xlabel('Month')\n",
    "plt.ylabel('Average Temperature (°C)')\n",
    "plt.xticks(monthly_avg.index)\n",
    "plt.show()\n"
   ]
  },
  {
   "cell_type": "code",
   "execution_count": null,
   "metadata": {},
   "outputs": [],
   "source": [
    "# Predict next day's temperature\n",
    "X = df[['temperature_C']].shift(-1)  # features are previous day's temperatures\n",
    "y = df['temperature_C']  # target is today's temperature\n",
    "\n",
    "# Split data\n",
    "X_train, X_test, y_train, y_test = train_test_split(X, y, test_size=0.2, random_state=42)\n",
    "\n",
    "# Train model\n",
    "model = LinearRegression()\n",
    "model.fit(X_train, y_train)\n",
    "\n",
    "# Predict and evaluate\n",
    "predicted_temps = model.predict(X_test)"
   ]
  },
  {
   "cell_type": "code",
   "execution_count": null,
   "metadata": {},
   "outputs": [],
   "source": []
  }
 ],
 "metadata": {
  "language_info": {
   "name": "python"
  }
 },
 "nbformat": 4,
 "nbformat_minor": 2
}
